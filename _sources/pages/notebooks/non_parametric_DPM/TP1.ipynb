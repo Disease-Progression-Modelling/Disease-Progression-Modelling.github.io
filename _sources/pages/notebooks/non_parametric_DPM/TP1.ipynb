{
 "cells": [
  {
   "cell_type": "markdown",
   "metadata": {},
   "source": [
    "# Title of the notebook\n",
    "\n",
    "The title (with level-1 markdown identation, i.e. #) will appear in the content of the website.\n",
    "\n",
    "\n",
    "The markdown structure of the notebook directly relates to the structure of the website, as Jupyter Book parses markdown structure. For that reason : \n",
    "    \n",
    "- use level 1 identation (#) only for the title, otherwise it will appear on the website\n",
    "- use level 2 identation (##) for the different parts of the notebook - they will appear in the \"Content\" right panel on the website once you are on the tutorial page\n",
    "- use appropriate level identation, meaning \"in order\" : do not use level 4 (####) right after a level 2 (##), bur a level three first (###).\n",
    "    \n",
    "    \n",
    "## Objectives : \n",
    "\n",
    "- It would be nice to start with some objectives\n",
    "- And some other here\n",
    "- Even other here\n",
    "\n",
    "\n",
    "## The set-up\n",
    "\n",
    "Write the step-up to launch the tutorial here! It should be as easy as possible."
   ]
  },
  {
   "cell_type": "code",
   "execution_count": 1,
   "metadata": {},
   "outputs": [
    {
     "name": "stdout",
     "output_type": "stream",
     "text": [
      "fatal: destination path 'GP_progression_model_V2' already exists and is not an empty directory.\r\n"
     ]
    }
   ],
   "source": [
    "!git clone git@gitlab.inria.fr:epione/GP_progression_model_V2.git"
   ]
  },
  {
   "cell_type": "code",
   "execution_count": 2,
   "metadata": {},
   "outputs": [
    {
     "name": "stdout",
     "output_type": "stream",
     "text": [
      "/Users/mlorenzi/works/temp/disease-progression-modelling.github.io/pages/notebooks/non_parametric_DPM/GP_progression_model_V2\n"
     ]
    }
   ],
   "source": [
    "%cd GP_progression_model_V2"
   ]
  },
  {
   "cell_type": "code",
   "execution_count": 3,
   "metadata": {},
   "outputs": [
    {
     "name": "stdout",
     "output_type": "stream",
     "text": [
      "WARNING: '' not a valid package name; please use only .-separated package names in setup.py\n",
      "running develop\n",
      "running egg_info\n",
      "writing src/gppm.egg-info/PKG-INFO\n",
      "writing dependency_links to src/gppm.egg-info/dependency_links.txt\n",
      "writing top-level names to src/gppm.egg-info/top_level.txt\n",
      "reading manifest file 'src/gppm.egg-info/SOURCES.txt'\n",
      "writing manifest file 'src/gppm.egg-info/SOURCES.txt'\n",
      "running build_ext\n",
      "Creating /Users/mlorenzi/miniconda3/envs/DPM_website/lib/python3.6/site-packages/gppm.egg-link (link to src)\n",
      "gppm 2.0.0 is already the active version in easy-install.pth\n",
      "\n",
      "Installed /Users/mlorenzi/works/temp/disease-progression-modelling.github.io/pages/notebooks/non_parametric_DPM/GP_progression_model_V2/src\n",
      "Processing dependencies for gppm==2.0.0\n",
      "Finished processing dependencies for gppm==2.0.0\n"
     ]
    }
   ],
   "source": [
    "!python ./setup.py develop"
   ]
  },
  {
   "cell_type": "code",
   "execution_count": 4,
   "metadata": {
    "scrolled": true
   },
   "outputs": [
    {
     "name": "stdout",
     "output_type": "stream",
     "text": [
      "Collecting package metadata (repodata.json): done\n",
      "Solving environment: done\n",
      "\n",
      "\n",
      "==> WARNING: A newer version of conda exists. <==\n",
      "  current version: 4.9.2\n",
      "  latest version: 4.10.0\n",
      "\n",
      "Please update conda by running\n",
      "\n",
      "    $ conda update -n base -c defaults conda\n",
      "\n",
      "\n",
      "\n",
      "# All requested packages already installed.\n",
      "\n"
     ]
    }
   ],
   "source": [
    "!conda install gppm -c local -c pytorch -c defaults --override-channels -y"
   ]
  },
  {
   "cell_type": "code",
   "execution_count": 5,
   "metadata": {},
   "outputs": [],
   "source": [
    "import GP_progression_model"
   ]
  },
  {
   "cell_type": "code",
   "execution_count": 6,
   "metadata": {},
   "outputs": [],
   "source": [
    "# Setup\n",
    "\n",
    "import numpy as np\n",
    "import matplotlib\n",
    "#%matplotlib inline\n",
    "## workaround for OS X\n",
    "from sys import platform as sys_pf\n",
    "if sys_pf == 'darwin':\n",
    "    matplotlib.use(\"TkAgg\")\n",
    "import GP_progression_model\n",
    "from GP_progression_model import DataGenerator\n",
    "import torch\n",
    "import pandas as pd"
   ]
  },
  {
   "cell_type": "code",
   "execution_count": 7,
   "metadata": {},
   "outputs": [],
   "source": [
    "torch.backends.cudnn.benchmark = True\n",
    "torch.backends.cudnn.fastest = True\n",
    "device = torch.device(\"cuda\" if torch.cuda.is_available() else \"cpu\")\n",
    "\n",
    "## Parameters for progression curves and data generation\n",
    "# Max value\n",
    "L = 1\n",
    "# time interval\n",
    "interval = [-15,15]\n",
    "\n",
    "# Number of biomarkers\n",
    "Nbiom = 6\n",
    "# Number of individuals\n",
    "Nsubs = 3\n",
    "# Gaussian observational noise\n",
    "noise = 0.1\n",
    "\n",
    "# Creating random parameter sets for each biomarker's progression\n",
    "flag = 0\n",
    "while (flag!=1):\n",
    "    CurveParam = []\n",
    "    for i in range(Nbiom):\n",
    "        CurveParam.append([L,0.8*np.random.rand(),noise])\n",
    "        if CurveParam[i][1] > 0.0:\n",
    "            flag = 1"
   ]
  },
  {
   "cell_type": "code",
   "execution_count": 8,
   "metadata": {},
   "outputs": [],
   "source": [
    "# Calling the data generator\n",
    "dg = DataGenerator.DataGenerator(Nbiom, interval, CurveParam, Nsubs)\n",
    "\n",
    "### The object dg has 3 parameters defining the data\n",
    "# dg.XData is a list with Nbiomarkers elements:\n",
    "# for each element (biomarker) we have Nsubjects arrays with a random number of associated time points.\n",
    "# This is the ground truth time along the disease progression associated to each subject.\n",
    "####\n",
    "# dg.YData is a list with Nbiomarkers elements:\n",
    "# for each element (biomarker) we have Nsubjects arrays with measurements associated to the time points of dg.XData\n",
    "####\n",
    "# dg.ZeroXData is a list with Nbiomarkers elements:\n",
    "# for each element (biomarker) we have Nsubjects arrays with the associated time points of dg.XData zero-centered. \n",
    "# This is the reparameterized time-axis corresponding to the observations. "
   ]
  },
  {
   "cell_type": "code",
   "execution_count": 9,
   "metadata": {},
   "outputs": [
    {
     "name": "stdout",
     "output_type": "stream",
     "text": [
      "[-4, -3, -2, -1, 0, 1, 2, 3, 4, 5, 6, 7, 8, 9]\n",
      "[-11, -10, -9, -8, -7, -6, -5, -4, -3, -2, -1, 0, 1, 2]\n",
      "[4, 5, 6, 7, 8, 9, 10, 11, 12, 13, 14, 15, 16, 17]\n",
      "[0, 1, 2, 3, 4, 5, 6, 7, 8, 9, 10, 11, 12, 13]\n",
      "[-9, -8, -7, -6, -5, -4, -3, -2, -1, 0, 1, 2, 3, 4]\n",
      "[2, 3, 4, 5, 6, 7, 8, 9, 10, 11, 12, 13, 14, 15]\n"
     ]
    },
    {
     "name": "stderr",
     "output_type": "stream",
     "text": [
      "/Users/mlorenzi/works/temp/disease-progression-modelling.github.io/pages/notebooks/non_parametric_DPM/GP_progression_model_V2/src/GP_progression_model/DataGenerator.py:93: UserWarning: Matplotlib is currently using module://ipykernel.pylab.backend_inline, which is a non-GUI backend, so cannot show the figure.\n",
      "  fig.show()\n"
     ]
    },
    {
     "data": {
      "image/png": "[encoded data removed]",
      "text/plain": [
       "<Figure size 432x288 with 1 Axes>"
      ]
     },
     "metadata": {
      "needs_background": "light"
     },
     "output_type": "display_data"
    },
    {
     "data": {
      "image/png": "[encoded data removed]",
      "text/plain": [
       "<Figure size 432x288 with 1 Axes>"
      ]
     },
     "metadata": {
      "needs_background": "light"
     },
     "output_type": "display_data"
    }
   ],
   "source": [
    "%matplotlib inline\n",
    "dg.plot(1)"
   ]
  },
  {
   "cell_type": "markdown",
   "metadata": {},
   "source": [
    "## Part I: ...\n",
    "\n",
    "\n",
    "__💬 QUESTION 💬 Store the result of 1 + 1 in the variable A__\n",
    "\n",
    "__ℹ️ INFORMATION ℹ️ Have two cell, one for the question, the other with the answer__\n"
   ]
  },
  {
   "cell_type": "code",
   "execution_count": null,
   "metadata": {},
   "outputs": [],
   "source": []
  },
  {
   "cell_type": "code",
   "execution_count": 10,
   "metadata": {},
   "outputs": [],
   "source": [
    "# Your answer here"
   ]
  },
  {
   "cell_type": "code",
   "execution_count": 11,
   "metadata": {},
   "outputs": [],
   "source": [
    "# –––––––––––––––– #\n",
    "# –––– Answer –––– #\n",
    "# –––––––––––––––– #\n",
    "\n",
    "A = 1 + 1"
   ]
  },
  {
   "cell_type": "markdown",
   "metadata": {},
   "source": [
    "__⚡ REMARK ⚡ Congrats__"
   ]
  },
  {
   "cell_type": "code",
   "execution_count": null,
   "metadata": {},
   "outputs": [],
   "source": []
  }
 ],
 "metadata": {
  "kernelspec": {
   "display_name": "Python 3",
   "language": "python",
   "name": "python3"
  },
  "language_info": {
   "codemirror_mode": {
    "name": "ipython",
    "version": 3
   },
   "file_extension": ".py",
   "mimetype": "text/x-python",
   "name": "python",
   "nbconvert_exporter": "python",
   "pygments_lexer": "ipython3",
   "version": "3.6.12"
  }
 },
 "nbformat": 4,
 "nbformat_minor": 4
}
