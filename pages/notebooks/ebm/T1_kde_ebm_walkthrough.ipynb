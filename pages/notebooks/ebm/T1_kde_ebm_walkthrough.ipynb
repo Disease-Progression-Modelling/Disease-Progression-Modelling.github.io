{
 "cells": [
  {
   "cell_type": "markdown",
   "metadata": {},
   "source": [
    "# EBM: event-based model of disease progression\n",
    "\n",
    "## Objectives:\n",
    "\n",
    "This notebook demonstrates how to fit an event-based model of disease progression using publicly available software and simulated data:\n",
    "- Load a CSV table of disease features (biomarkers), possibly from a longitudinal study\n",
    "- Prepare the input data: select a subset of features; perform some basic statistical checks; etc.\n",
    "- Fit the model\n",
    "- Perform cross-validation\n",
    "\n",
    "## The set-up\n",
    "\n",
    "This notebook may be run in the cloud, or via a specially prepared conda environment (_FIXME: implement this_)"
   ]
  },
  {
   "cell_type": "code",
   "execution_count": 1,
   "metadata": {},
   "outputs": [],
   "source": [
    "# Set up\n",
    "import pandas as pd\n",
    "import numpy as np\n",
    "\n",
    "from pyebm import debm\n"
   ]
  },
  {
   "cell_type": "markdown",
   "metadata": {},
   "source": [
    "## Part I: ...\n",
    "\n",
    "\n",
    "__💬 QUESTION 💬 Store the result of 1 + 1 in the variable A__\n",
    "\n",
    "__ℹ️ INFORMATION ℹ️ Have two cell, one for the question, the other with the answer__\n"
   ]
  },
  {
   "cell_type": "code",
   "execution_count": 3,
   "metadata": {},
   "outputs": [],
   "source": [
    "# Your answer here"
   ]
  },
  {
   "cell_type": "code",
   "execution_count": 2,
   "metadata": {},
   "outputs": [],
   "source": [
    "# –––––––––––––––– #\n",
    "# –––– Answer –––– #\n",
    "# –––––––––––––––– #\n",
    "\n",
    "A = 1 + 1"
   ]
  },
  {
   "cell_type": "markdown",
   "metadata": {},
   "source": [
    "__⚡ REMARK ⚡ Congrats__"
   ]
  },
  {
   "cell_type": "code",
   "execution_count": null,
   "metadata": {},
   "outputs": [],
   "source": []
  }
 ],
 "metadata": {
  "kernelspec": {
   "display_name": "Python 3",
   "language": "python",
   "name": "python3"
  },
  "language_info": {
   "codemirror_mode": {
    "name": "ipython",
    "version": 3
   },
   "file_extension": ".py",
   "mimetype": "text/x-python",
   "name": "python",
   "nbconvert_exporter": "python",
   "pygments_lexer": "ipython3",
   "version": "3.7.9"
  }
 },
 "nbformat": 4,
 "nbformat_minor": 4
}
