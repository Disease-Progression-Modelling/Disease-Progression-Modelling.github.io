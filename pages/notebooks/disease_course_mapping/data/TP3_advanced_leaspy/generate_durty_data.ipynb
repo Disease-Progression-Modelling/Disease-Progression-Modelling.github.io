{
 "cells": [
  {
   "cell_type": "code",
   "execution_count": 1,
   "metadata": {},
   "outputs": [],
   "source": [
    "import os, sys\n",
    "\n",
    "import numpy as np\n",
    "import pandas as pd\n",
    "import matplotlib.pyplot as plt\n",
    "import random\n",
    "%matplotlib inline\n",
    "\n",
    "leaspy_path = '/network/lustre/dtlake01/aramis/users/juliette.ortholand/leaspy/' #TO CHANGE\n",
    "\n",
    "sys.path.append(leaspy_path)\n",
    "\n",
    "from leaspy import Leaspy, IndividualParameters, AlgorithmSettings, Data"
   ]
  },
  {
   "cell_type": "markdown",
   "metadata": {},
   "source": [
    "# Load "
   ]
  },
  {
   "cell_type": "code",
   "execution_count": 2,
   "metadata": {},
   "outputs": [
    {
     "name": "stdout",
     "output_type": "stream",
     "text": [
      "1988\n"
     ]
    },
    {
     "data": {
      "text/html": [
       "<div>\n",
       "<style scoped>\n",
       "    .dataframe tbody tr th:only-of-type {\n",
       "        vertical-align: middle;\n",
       "    }\n",
       "\n",
       "    .dataframe tbody tr th {\n",
       "        vertical-align: top;\n",
       "    }\n",
       "\n",
       "    .dataframe thead th {\n",
       "        text-align: right;\n",
       "    }\n",
       "</style>\n",
       "<table border=\"1\" class=\"dataframe\">\n",
       "  <thead>\n",
       "    <tr style=\"text-align: right;\">\n",
       "      <th></th>\n",
       "      <th></th>\n",
       "      <th>MDS1_total</th>\n",
       "      <th>MDS2_total</th>\n",
       "      <th>MDS3_off_total</th>\n",
       "      <th>SCOPA_total</th>\n",
       "      <th>MOCA_total</th>\n",
       "      <th>REM_total</th>\n",
       "      <th>PUTAMEN_R</th>\n",
       "      <th>PUTAMEN_L</th>\n",
       "      <th>CAUDATE_R</th>\n",
       "      <th>CAUDATE_L</th>\n",
       "    </tr>\n",
       "    <tr>\n",
       "      <th>ID</th>\n",
       "      <th>TIME</th>\n",
       "      <th></th>\n",
       "      <th></th>\n",
       "      <th></th>\n",
       "      <th></th>\n",
       "      <th></th>\n",
       "      <th></th>\n",
       "      <th></th>\n",
       "      <th></th>\n",
       "      <th></th>\n",
       "      <th></th>\n",
       "    </tr>\n",
       "  </thead>\n",
       "  <tbody>\n",
       "    <tr>\n",
       "      <th rowspan=\"5\" valign=\"top\">GS-001</th>\n",
       "      <th>62.289333</th>\n",
       "      <td>0.004518</td>\n",
       "      <td>0.068390</td>\n",
       "      <td>0.166300</td>\n",
       "      <td>0.000000</td>\n",
       "      <td>0.107169</td>\n",
       "      <td>0.078704</td>\n",
       "      <td>0.599264</td>\n",
       "      <td>0.587410</td>\n",
       "      <td>0.281644</td>\n",
       "      <td>0.181655</td>\n",
       "    </tr>\n",
       "    <tr>\n",
       "      <th>62.789333</th>\n",
       "      <td>0.089316</td>\n",
       "      <td>0.126355</td>\n",
       "      <td>0.118627</td>\n",
       "      <td>0.079459</td>\n",
       "      <td>0.156544</td>\n",
       "      <td>0.374873</td>\n",
       "      <td>0.516092</td>\n",
       "      <td>0.723004</td>\n",
       "      <td>0.107746</td>\n",
       "      <td>0.410228</td>\n",
       "    </tr>\n",
       "    <tr>\n",
       "      <th>63.289333</th>\n",
       "      <td>0.037611</td>\n",
       "      <td>0.050422</td>\n",
       "      <td>0.220779</td>\n",
       "      <td>0.000000</td>\n",
       "      <td>0.000000</td>\n",
       "      <td>0.194420</td>\n",
       "      <td>0.579225</td>\n",
       "      <td>0.791977</td>\n",
       "      <td>0.280972</td>\n",
       "      <td>0.269620</td>\n",
       "    </tr>\n",
       "    <tr>\n",
       "      <th>64.289330</th>\n",
       "      <td>0.112131</td>\n",
       "      <td>0.000000</td>\n",
       "      <td>0.335756</td>\n",
       "      <td>0.618889</td>\n",
       "      <td>0.004959</td>\n",
       "      <td>0.237782</td>\n",
       "      <td>0.662681</td>\n",
       "      <td>0.744099</td>\n",
       "      <td>0.201657</td>\n",
       "      <td>0.345901</td>\n",
       "    </tr>\n",
       "    <tr>\n",
       "      <th>64.789330</th>\n",
       "      <td>0.080184</td>\n",
       "      <td>0.091392</td>\n",
       "      <td>0.224638</td>\n",
       "      <td>0.000000</td>\n",
       "      <td>0.048896</td>\n",
       "      <td>0.159916</td>\n",
       "      <td>0.697169</td>\n",
       "      <td>0.720996</td>\n",
       "      <td>0.175301</td>\n",
       "      <td>0.382367</td>\n",
       "    </tr>\n",
       "  </tbody>\n",
       "</table>\n",
       "</div>"
      ],
      "text/plain": [
       "                  MDS1_total  MDS2_total  MDS3_off_total  SCOPA_total  \\\n",
       "ID     TIME                                                             \n",
       "GS-001 62.289333    0.004518    0.068390        0.166300     0.000000   \n",
       "       62.789333    0.089316    0.126355        0.118627     0.079459   \n",
       "       63.289333    0.037611    0.050422        0.220779     0.000000   \n",
       "       64.289330    0.112131    0.000000        0.335756     0.618889   \n",
       "       64.789330    0.080184    0.091392        0.224638     0.000000   \n",
       "\n",
       "                  MOCA_total  REM_total  PUTAMEN_R  PUTAMEN_L  CAUDATE_R  \\\n",
       "ID     TIME                                                                \n",
       "GS-001 62.289333    0.107169   0.078704   0.599264   0.587410   0.281644   \n",
       "       62.789333    0.156544   0.374873   0.516092   0.723004   0.107746   \n",
       "       63.289333    0.000000   0.194420   0.579225   0.791977   0.280972   \n",
       "       64.289330    0.004959   0.237782   0.662681   0.744099   0.201657   \n",
       "       64.789330    0.048896   0.159916   0.697169   0.720996   0.175301   \n",
       "\n",
       "                  CAUDATE_L  \n",
       "ID     TIME                  \n",
       "GS-001 62.289333   0.181655  \n",
       "       62.789333   0.410228  \n",
       "       63.289333   0.269620  \n",
       "       64.289330   0.345901  \n",
       "       64.789330   0.382367  "
      ]
     },
     "execution_count": 2,
     "metadata": {},
     "output_type": "execute_result"
    }
   ],
   "source": [
    "df_normed = pd.read_csv(\"simulated_data-noisy_SCOPA.csv\")\n",
    "df_normed = df_normed.astype({'ID':'string'})\n",
    "df_normed.set_index(['ID', 'TIME'], inplace=True)\n",
    "print(len(df_normed))\n",
    "df_normed.head()"
   ]
  },
  {
   "cell_type": "markdown",
   "metadata": {},
   "source": [
    "# Unnormalised\n",
    "\n",
    "The different scores are normalised for the moment. The first step is to put them back to their real format :\n",
    "* __MDS1_total__ : monotone increasing score from 0 to 52,\n",
    "* __MDS2_total__ : monotone increasing score from 0 to 52,\n",
    "* __MDS3_off_total__ : monotone increasing score from 0 to 132,\n",
    "* __SCOPA_total__ : monotone increasing score from 0 to 72,\n",
    "* __MOCA_total__ : monotone decreasing score from 30 to 0,\n",
    "* __REM_total__ : ?????\n",
    "* __PUTAMEN_R__ : monotone increasing score with limit normal 0.03 and limit abnormal 3.76,\n",
    "* __PUTAMEN_L__ : monotone increasing score with limit normal 0.01 and limit abnormal 4.27,\n",
    "* __CAUDATE_R__ : monotone increasing score with limit normal 0.06 and limit abnormal 4.96,\n",
    "* __CAUDATE_L__ : monotone increasing score with limit normal 0.015 and limit abnormal 4.75."
   ]
  },
  {
   "cell_type": "code",
   "execution_count": 3,
   "metadata": {},
   "outputs": [],
   "source": [
    "df_true_values = pd.DataFrame(index = df_normed.index)\n",
    "df_true_values[\"MDS1_total\"] = 52*df_normed[\"MDS1_total\"]\n",
    "df_true_values[\"MDS2_total\"] = 52*df_normed[\"MDS2_total\"]\n",
    "df_true_values[\"MDS3_off_total\"] = 132*df_normed[\"MDS3_off_total\"]\n",
    "df_true_values[\"SCOPA_total\"] = 72*df_normed[\"SCOPA_total\"]\n",
    "\n",
    "df_true_values[\"MOCA_total\"] = (1-df_normed[\"MOCA_total\"])*30\n",
    "\n",
    "#df_true_values[\"REM_total\"] = df_normed[\"REM_total\"]\n",
    "\n",
    "df_true_values[\"PUTAMEN_R\"] = (0.03 + df_normed[\"PUTAMEN_R\"])/(3.76 - 0.03)\n",
    "df_true_values[\"PUTAMEN_L\"] = (0.01 + df_normed[\"PUTAMEN_L\"])/(4.27 - 0.01)\n",
    "df_true_values[\"CAUDATE_R\"] = (0.06 + df_normed[\"CAUDATE_R\"])/(4.96 - 0.06)\n",
    "df_true_values[\"CAUDATE_L\"] = (0.015 + df_normed[\"CAUDATE_L\"])/(4.75 - 0.015)"
   ]
  },
  {
   "cell_type": "markdown",
   "metadata": {},
   "source": [
    "# Add NaN and unknowed value -9\n",
    "\n",
    "une colonne avec les 100 1ers patients qui n'ont que des NAN\n",
    "données d'imagerie pas dispo sur les même visites que les scores cliniques\n",
    "ex pour les scores clinique: MDS dispo à toutes les visites sauf visites d'imagerie, MOCA dispo une fois sur deux, et un autre score dispo une fois sur trois ou une fois sur 4.\n",
    "uen feature avec des NAN -9"
   ]
  },
  {
   "cell_type": "code",
   "execution_count": 4,
   "metadata": {},
   "outputs": [],
   "source": [
    "for i in range(len(df_true_values.index)) :\n",
    "    if i%3 == 0 :\n",
    "        df_true_values.at[df_true_values.index[i],\"MDS1_total\"] = np.nan\n",
    "        \n",
    "    if i%9 == 0 :\n",
    "        df_true_values.at[df_true_values.index[i],\"MDS3_off_total\"] = -9\n",
    "        "
   ]
  },
  {
   "cell_type": "markdown",
   "metadata": {},
   "source": [
    "# Add not monotone feature\n",
    "\n",
    "Let's now set that REM is a new feature named \"AGD_total\". This new score will be set to vary between 0 and 0.5 but is not monotonus with the development of Parkinson deasise."
   ]
  },
  {
   "cell_type": "code",
   "execution_count": 5,
   "metadata": {},
   "outputs": [
    {
     "data": {
      "text/plain": [
       "<AxesSubplot:>"
      ]
     },
     "execution_count": 5,
     "metadata": {},
     "output_type": "execute_result"
    },
    {
     "data": {
      "image/png": "[encoded data removed]",
      "text/plain": [
       "<Figure size 432x288 with 1 Axes>"
      ]
     },
     "metadata": {
      "needs_background": "light"
     },
     "output_type": "display_data"
    }
   ],
   "source": [
    "df_normed[\"REM_total\"].hist()"
   ]
  },
  {
   "cell_type": "code",
   "execution_count": 6,
   "metadata": {},
   "outputs": [],
   "source": [
    "df_true_values[\"AGD_total\"] = df_normed[\"REM_total\"]\n",
    "\n",
    "for i in range(len(df_true_values.index)) :\n",
    "    if df_true_values[\"AGD_total\"].iloc[i] >0.5 :\n",
    "        df_true_values.at[df_true_values.index[i],\"AGD_total\"] = 1 - df_true_values[\"AGD_total\"].iloc[i]"
   ]
  },
  {
   "cell_type": "markdown",
   "metadata": {},
   "source": [
    "How to print a feature that is not monotonous????"
   ]
  },
  {
   "cell_type": "markdown",
   "metadata": {},
   "source": [
    "# Create patients with one visit\n",
    "\n",
    "There is 200 different patients, with in average XX visits. We select patients : GS-050, GS-100, GS-150 and GS-200 and we set there number of visit to one (we keep only the first one). "
   ]
  },
  {
   "cell_type": "code",
   "execution_count": 7,
   "metadata": {},
   "outputs": [],
   "source": [
    "list_id = ['GS-050', 'GS-100', 'GS-150', 'GS-200']\n",
    "list_to_drop = []\n",
    "for id_ in list_id :\n",
    "    for i in range(2, len(df_true_values.loc[id_].index)):\n",
    "        list_to_drop.append((id_, df_true_values.loc[id_].index[i]))\n",
    "df_visit = df_true_values.drop(list_to_drop)"
   ]
  },
  {
   "cell_type": "markdown",
   "metadata": {},
   "source": [
    "# Separate last visit for prediction"
   ]
  },
  {
   "cell_type": "code",
   "execution_count": 8,
   "metadata": {},
   "outputs": [],
   "source": [
    "learn = []\n",
    "pred = []\n",
    "for df in df_visit.groupby(\"ID\"):\n",
    "    learn.append(df[1].iloc[:-1])\n",
    "    pred.append(df[1].iloc[-1])"
   ]
  },
  {
   "cell_type": "code",
   "execution_count": 9,
   "metadata": {},
   "outputs": [],
   "source": [
    "df_learn = pd.concat(learn)\n",
    "df_pred = pd.concat(pred, axis = 1).T\n",
    "df_pred.index.names = ['ID','TIME']"
   ]
  },
  {
   "cell_type": "markdown",
   "metadata": {},
   "source": [
    "# Save"
   ]
  },
  {
   "cell_type": "code",
   "execution_count": 10,
   "metadata": {},
   "outputs": [],
   "source": [
    "df_learn.to_csv(\"learn_leaspy2.csv\")\n",
    "df_pred.to_csv(\"pred_leaspy2.csv\")"
   ]
  },
  {
   "cell_type": "markdown",
   "metadata": {},
   "source": [
    "# Create cofactor"
   ]
  },
  {
   "cell_type": "code",
   "execution_count": 11,
   "metadata": {},
   "outputs": [],
   "source": [
    "col = [\"MDS3_off_total\", \"MDS2_total\"]\n",
    "data = Data.from_dataframe(df_normed[col]) "
   ]
  },
  {
   "cell_type": "code",
   "execution_count": 12,
   "metadata": {},
   "outputs": [
    {
     "name": "stdout",
     "output_type": "stream",
     "text": [
      "|##################################################|   3000/3000 iterations\n",
      "The standard deviation of the noise at the end of the calibration is:\n",
      "0.0598\n",
      "\n",
      "Calibration took: 44s\n"
     ]
    }
   ],
   "source": [
    "##SET PARAMETERS\n",
    "leaspy_model = \"logistic\" #'univariate'\n",
    "nb_source = 2\n",
    "algo_settings = AlgorithmSettings('mcmc_saem', \n",
    "                                  n_iter=3000,           # n_iter defines the number of iterations\n",
    "                                  progress_bar=True)     # To display a nice progression bar during calibration\n",
    "\n",
    "##FIT\n",
    "leaspy = Leaspy(leaspy_model)\n",
    "leaspy.model.load_hyperparameters({'source_dimension': nb_source})\n",
    "leaspy.fit(data, algorithm_settings=algo_settings)"
   ]
  },
  {
   "cell_type": "code",
   "execution_count": 15,
   "metadata": {},
   "outputs": [
    {
     "name": "stdout",
     "output_type": "stream",
     "text": [
      "|##################################################|   200/200 subjects\n",
      "The standard deviation of the noise at the end of the personalization is:\n",
      "0.0556\n",
      "\n",
      "Personalization scipy_minimize took: 52s\n"
     ]
    }
   ],
   "source": [
    "##SET PARAMETERS\n",
    "settings_personalization = AlgorithmSettings('scipy_minimize', progress_bar=True)\n",
    "\n",
    "##PREDICTIONS\n",
    "ip = leaspy.personalize(data, settings_personalization)"
   ]
  },
  {
   "cell_type": "code",
   "execution_count": 17,
   "metadata": {},
   "outputs": [],
   "source": [
    "# —— Convert individual parameters to dataframe\n",
    "df_ip = ip.to_dataframe()"
   ]
  },
  {
   "cell_type": "code",
   "execution_count": 18,
   "metadata": {},
   "outputs": [],
   "source": [
    "df_cof = pd.DataFrame(0, columns = ['MUTATION'],index = df_ip.index)\n",
    "for i in df_cof.index :\n",
    "    if df_ip[\"tau\"].loc[i]>70 and df_ip[\"xi\"].loc[i]<0.5:\n",
    "        df_cof.at[i,'MUTATION'] = 1\n",
    "    elif df_ip[\"tau\"].loc[i]>65 and df_ip[\"xi\"].loc[i]<0.25:\n",
    "        rd = random.randint(1, 3)\n",
    "        if rd != 3 :\n",
    "            df_cof.at[i,'MUTATION'] = 1\n",
    "    elif df_ip[\"tau\"].loc[i]>60 and df_ip[\"xi\"].loc[i]<0:\n",
    "        rd = random.randint(1, 3)\n",
    "        if rd == 3 :\n",
    "            df_cof.at[i,'MUTATION'] = 1"
   ]
  },
  {
   "cell_type": "code",
   "execution_count": 19,
   "metadata": {},
   "outputs": [
    {
     "data": {
      "image/png": "[encoded data removed]",
      "text/plain": [
       "<Figure size 432x288 with 1 Axes>"
      ]
     },
     "metadata": {
      "needs_background": "light"
     },
     "output_type": "display_data"
    },
    {
     "data": {
      "image/png": "[encoded data removed]",
      "text/plain": [
       "<Figure size 432x288 with 1 Axes>"
      ]
     },
     "metadata": {
      "needs_background": "light"
     },
     "output_type": "display_data"
    }
   ],
   "source": [
    "# —— Convert individual parameters to dataframe\n",
    "df_ip = ip.to_dataframe()\n",
    "\n",
    "# —— Merge with cofactors\n",
    "df_ip = df_ip.join(df_cof)\n",
    "\n",
    "# —— Separate the individual parameters with respect to the cofactor\n",
    "carriers = df_ip[df_ip['MUTATION'] == 0.]\n",
    "non_carriers = df_ip[df_ip['MUTATION'] == 1.]\n",
    "\n",
    "# —— Plot the time shifts in carriers and non-carriers\n",
    "plt.title('Time shift histogram')\n",
    "plt.hist(carriers['tau'], density=True, label='Carriers')\n",
    "plt.hist(non_carriers['tau'], density=True, alpha=0.6, label='Non carriers')\n",
    "plt.legend()\n",
    "plt.show()\n",
    "\n",
    "\n",
    "# —— Plot the acceleration factor in carriers and non-carriers\n",
    "plt.title('Log-Acceleration factor histogram')\n",
    "plt.hist(carriers['xi'], density=True, label='Carriers')\n",
    "plt.hist(non_carriers['xi'], density=True, alpha=0.6, label='Non carriers')\n",
    "plt.legend()\n",
    "plt.show()"
   ]
  },
  {
   "cell_type": "code",
   "execution_count": 20,
   "metadata": {},
   "outputs": [
    {
     "name": "stdout",
     "output_type": "stream",
     "text": [
      "Ttest_indResult(statistic=-8.471553339560197, pvalue=5.4540291928829294e-15)\n",
      "Ttest_indResult(statistic=5.89946336208136, pvalue=1.5560283079644453e-08)\n",
      "MannwhitneyuResult(statistic=1118.0, pvalue=3.932040626084918e-15)\n",
      "MannwhitneyuResult(statistic=1940.0, pvalue=1.817158655395327e-08)\n"
     ]
    }
   ],
   "source": [
    "from scipy import stats\n",
    "\n",
    "# —— Student t-test (under the asumption of a gaussian distribution only)\n",
    "print(stats.ttest_ind(carriers['tau'], non_carriers['tau']))\n",
    "print(stats.ttest_ind(carriers['xi'], non_carriers['xi']))\n",
    "\n",
    "# —— Mann-withney t-test\n",
    "print(stats.mannwhitneyu(carriers['tau'], non_carriers['tau']))\n",
    "print(stats.mannwhitneyu(carriers['xi'], non_carriers['xi']))"
   ]
  },
  {
   "cell_type": "code",
   "execution_count": 21,
   "metadata": {},
   "outputs": [],
   "source": [
    "df_cof.to_csv(\"cof_leaspy2.csv\")"
   ]
  },
  {
   "cell_type": "markdown",
   "metadata": {},
   "source": [
    "# Add futur visit"
   ]
  },
  {
   "cell_type": "code",
   "execution_count": null,
   "metadata": {},
   "outputs": [],
   "source": [
    "#df_fut = df_visit.copy().reset_index()\n",
    "#df_fut[\"NEXT_TIME\"] = df_fut[\"TIME\"]+0.5\n",
    "#df_fut = df_fut.rename(columns={\"TIME\": \"PAST_TIME\",\"NEXT_TIME\": \"TIME\"})\n",
    "#df_visit[\"NEXT_MDS3\"] = df_visit[\"MDS3_off_total\"]\n",
    "#df_fut.set_index(['ID', 'TIME'], inplace=True)\n",
    "#df_pop = pd.merge(df_fut,df_visit[[\"NEXT_MDS3\"]], on=['ID','TIME'])\n",
    "#df_pop = df_pop.reset_index()\n",
    "#df_pop = df_pop.rename(columns={\"PAST_TIME\": \"TIME\",\"TIME\":\"NEXT_TIME\"})\n",
    "#df_pop.set_index(['ID', 'TIME'], inplace=True)\n",
    "#df_pop.head()"
   ]
  }
 ],
 "metadata": {
  "kernelspec": {
   "display_name": "Python 3",
   "language": "python",
   "name": "python3"
  },
  "language_info": {
   "codemirror_mode": {
    "name": "ipython",
    "version": 3
   },
   "file_extension": ".py",
   "mimetype": "text/x-python",
   "name": "python",
   "nbconvert_exporter": "python",
   "pygments_lexer": "ipython3",
   "version": "3.8.5"
  }
 },
 "nbformat": 4,
 "nbformat_minor": 4
}
