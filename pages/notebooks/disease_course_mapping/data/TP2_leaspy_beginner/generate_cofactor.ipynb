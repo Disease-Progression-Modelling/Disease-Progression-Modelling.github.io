{
 "cells": [
  {
   "cell_type": "code",
   "execution_count": 1,
   "metadata": {},
   "outputs": [],
   "source": [
    "import os, sys\n",
    "\n",
    "import numpy as np\n",
    "import pandas as pd\n",
    "import matplotlib.pyplot as plt\n",
    "import random\n",
    "from scipy import stats\n",
    "%matplotlib inline\n",
    "\n",
    "leaspy_path = '/network/lustre/dtlake01/aramis/users/juliette.ortholand/leaspy/' #TO CHANGE\n",
    "\n",
    "sys.path.append(leaspy_path)\n",
    "\n",
    "from leaspy import Leaspy, IndividualParameters, AlgorithmSettings, Data"
   ]
  },
  {
   "cell_type": "markdown",
   "metadata": {},
   "source": [
    "# Load "
   ]
  },
  {
   "cell_type": "code",
   "execution_count": 2,
   "metadata": {},
   "outputs": [
    {
     "name": "stdout",
     "output_type": "stream",
     "text": [
      "1997\n"
     ]
    },
    {
     "data": {
      "text/html": [
       "<div>\n",
       "<style scoped>\n",
       "    .dataframe tbody tr th:only-of-type {\n",
       "        vertical-align: middle;\n",
       "    }\n",
       "\n",
       "    .dataframe tbody tr th {\n",
       "        vertical-align: top;\n",
       "    }\n",
       "\n",
       "    .dataframe thead th {\n",
       "        text-align: right;\n",
       "    }\n",
       "</style>\n",
       "<table border=\"1\" class=\"dataframe\">\n",
       "  <thead>\n",
       "    <tr style=\"text-align: right;\">\n",
       "      <th></th>\n",
       "      <th></th>\n",
       "      <th>MDS1_total</th>\n",
       "      <th>MDS2_total</th>\n",
       "      <th>MDS3_off_total</th>\n",
       "      <th>SCOPA_total</th>\n",
       "      <th>MOCA_total</th>\n",
       "      <th>REM_total</th>\n",
       "      <th>PUTAMEN_R</th>\n",
       "      <th>PUTAMEN_L</th>\n",
       "      <th>CAUDATE_R</th>\n",
       "      <th>CAUDATE_L</th>\n",
       "      <th>PUTAMEN</th>\n",
       "    </tr>\n",
       "    <tr>\n",
       "      <th>ID</th>\n",
       "      <th>TIME</th>\n",
       "      <th></th>\n",
       "      <th></th>\n",
       "      <th></th>\n",
       "      <th></th>\n",
       "      <th></th>\n",
       "      <th></th>\n",
       "      <th></th>\n",
       "      <th></th>\n",
       "      <th></th>\n",
       "      <th></th>\n",
       "      <th></th>\n",
       "    </tr>\n",
       "  </thead>\n",
       "  <tbody>\n",
       "    <tr>\n",
       "      <th rowspan=\"5\" valign=\"top\">GS-001</th>\n",
       "      <th>71.354607</th>\n",
       "      <td>0.112301</td>\n",
       "      <td>0.122472</td>\n",
       "      <td>0.171078</td>\n",
       "      <td>0.160001</td>\n",
       "      <td>0.275257</td>\n",
       "      <td>0.492485</td>\n",
       "      <td>0.780210</td>\n",
       "      <td>0.676774</td>\n",
       "      <td>0.622611</td>\n",
       "      <td>0.494641</td>\n",
       "      <td>0.728492</td>\n",
       "    </tr>\n",
       "    <tr>\n",
       "      <th>71.554604</th>\n",
       "      <td>0.140880</td>\n",
       "      <td>0.109504</td>\n",
       "      <td>0.118693</td>\n",
       "      <td>0.135852</td>\n",
       "      <td>0.380934</td>\n",
       "      <td>0.577203</td>\n",
       "      <td>0.751444</td>\n",
       "      <td>0.719796</td>\n",
       "      <td>0.618434</td>\n",
       "      <td>0.530978</td>\n",
       "      <td>0.735620</td>\n",
       "    </tr>\n",
       "    <tr>\n",
       "      <th>72.054604</th>\n",
       "      <td>0.225499</td>\n",
       "      <td>0.270502</td>\n",
       "      <td>0.061310</td>\n",
       "      <td>0.211134</td>\n",
       "      <td>0.351172</td>\n",
       "      <td>0.835828</td>\n",
       "      <td>0.823315</td>\n",
       "      <td>0.691504</td>\n",
       "      <td>0.717099</td>\n",
       "      <td>0.576978</td>\n",
       "      <td>0.757409</td>\n",
       "    </tr>\n",
       "    <tr>\n",
       "      <th>73.054604</th>\n",
       "      <td>0.132519</td>\n",
       "      <td>0.253548</td>\n",
       "      <td>0.258786</td>\n",
       "      <td>0.245323</td>\n",
       "      <td>0.377842</td>\n",
       "      <td>0.566496</td>\n",
       "      <td>0.813593</td>\n",
       "      <td>0.787914</td>\n",
       "      <td>0.770048</td>\n",
       "      <td>0.709486</td>\n",
       "      <td>0.800754</td>\n",
       "    </tr>\n",
       "    <tr>\n",
       "      <th>73.554604</th>\n",
       "      <td>0.278923</td>\n",
       "      <td>0.321920</td>\n",
       "      <td>0.143350</td>\n",
       "      <td>0.223102</td>\n",
       "      <td>0.292768</td>\n",
       "      <td>0.741811</td>\n",
       "      <td>0.888792</td>\n",
       "      <td>0.852720</td>\n",
       "      <td>0.797368</td>\n",
       "      <td>0.715465</td>\n",
       "      <td>0.870756</td>\n",
       "    </tr>\n",
       "  </tbody>\n",
       "</table>\n",
       "</div>"
      ],
      "text/plain": [
       "                  MDS1_total  MDS2_total  MDS3_off_total  SCOPA_total  \\\n",
       "ID     TIME                                                             \n",
       "GS-001 71.354607    0.112301    0.122472        0.171078     0.160001   \n",
       "       71.554604    0.140880    0.109504        0.118693     0.135852   \n",
       "       72.054604    0.225499    0.270502        0.061310     0.211134   \n",
       "       73.054604    0.132519    0.253548        0.258786     0.245323   \n",
       "       73.554604    0.278923    0.321920        0.143350     0.223102   \n",
       "\n",
       "                  MOCA_total  REM_total  PUTAMEN_R  PUTAMEN_L  CAUDATE_R  \\\n",
       "ID     TIME                                                                \n",
       "GS-001 71.354607    0.275257   0.492485   0.780210   0.676774   0.622611   \n",
       "       71.554604    0.380934   0.577203   0.751444   0.719796   0.618434   \n",
       "       72.054604    0.351172   0.835828   0.823315   0.691504   0.717099   \n",
       "       73.054604    0.377842   0.566496   0.813593   0.787914   0.770048   \n",
       "       73.554604    0.292768   0.741811   0.888792   0.852720   0.797368   \n",
       "\n",
       "                  CAUDATE_L   PUTAMEN  \n",
       "ID     TIME                            \n",
       "GS-001 71.354607   0.494641  0.728492  \n",
       "       71.554604   0.530978  0.735620  \n",
       "       72.054604   0.576978  0.757409  \n",
       "       73.054604   0.709486  0.800754  \n",
       "       73.554604   0.715465  0.870756  "
      ]
     },
     "execution_count": 2,
     "metadata": {},
     "output_type": "execute_result"
    }
   ],
   "source": [
    "df_normed = pd.read_csv(\"simulated_data-corrected.csv\")\n",
    "df_normed = df_normed.astype({'ID':'string'})\n",
    "df_normed.set_index(['ID', 'TIME'], inplace=True)\n",
    "print(len(df_normed))\n",
    "df_normed.head()"
   ]
  },
  {
   "cell_type": "markdown",
   "metadata": {},
   "source": [
    "# Create cofactor"
   ]
  },
  {
   "cell_type": "code",
   "execution_count": 3,
   "metadata": {},
   "outputs": [],
   "source": [
    "path_model = os.path.join(os.getcwd(),'..', '..',\"TP2_leaspy_beginner/outputs/\")\n",
    "leaspy = Leaspy.load(path_model + 'model_parameters.json')"
   ]
  },
  {
   "cell_type": "code",
   "execution_count": 4,
   "metadata": {},
   "outputs": [],
   "source": [
    "col = [\"MDS1_total\", \"MDS2_total\", \"MDS3_off_total\"]\n",
    "data = Data.from_dataframe(df_normed.loc['GS-161':][col]) "
   ]
  },
  {
   "cell_type": "code",
   "execution_count": 5,
   "metadata": {},
   "outputs": [
    {
     "name": "stdout",
     "output_type": "stream",
     "text": [
      "|########################################|   40/40 subjects\n",
      "The standard deviation of the noise at the end of the personalization is:\n",
      "MDS1_total: 0.0468\n",
      "MDS2_total: 0.0492\n",
      "MDS3_off_total: 0.0578\n",
      "\n",
      "Personalization scipy_minimize took: 8s\n"
     ]
    }
   ],
   "source": [
    "##SET PARAMETERS\n",
    "settings_personalization = AlgorithmSettings('scipy_minimize', progress_bar=True)\n",
    "\n",
    "##PREDICTIONS\n",
    "ip = leaspy.personalize(data, settings_personalization)"
   ]
  },
  {
   "cell_type": "code",
   "execution_count": 6,
   "metadata": {},
   "outputs": [],
   "source": [
    "# —— Convert individual parameters to dataframe\n",
    "df_ip = ip.to_dataframe()"
   ]
  },
  {
   "cell_type": "code",
   "execution_count": 7,
   "metadata": {},
   "outputs": [
    {
     "data": {
      "text/plain": [
       "<AxesSubplot:>"
      ]
     },
     "execution_count": 7,
     "metadata": {},
     "output_type": "execute_result"
    },
    {
     "data": {
      "image/png": "[encoded data removed]",
      "text/plain": [
       "<Figure size 432x288 with 1 Axes>"
      ]
     },
     "metadata": {
      "needs_background": "light"
     },
     "output_type": "display_data"
    }
   ],
   "source": [
    "df_ip[\"tau\"].hist()"
   ]
  },
  {
   "cell_type": "code",
   "execution_count": 8,
   "metadata": {},
   "outputs": [
    {
     "data": {
      "text/plain": [
       "<AxesSubplot:>"
      ]
     },
     "execution_count": 8,
     "metadata": {},
     "output_type": "execute_result"
    },
    {
     "data": {
      "image/png": "[encoded data removed]",
      "text/plain": [
       "<Figure size 432x288 with 1 Axes>"
      ]
     },
     "metadata": {
      "needs_background": "light"
     },
     "output_type": "display_data"
    }
   ],
   "source": [
    "df_ip[\"xi\"].hist()"
   ]
  },
  {
   "cell_type": "code",
   "execution_count": 9,
   "metadata": {},
   "outputs": [],
   "source": [
    "df_cof = pd.DataFrame(0, columns = ['MUTATION'],index = df_ip.index)\n",
    "for i in df_cof.index :\n",
    "    if df_ip[\"tau\"].loc[i]>70 and df_ip[\"xi\"].loc[i]<0:\n",
    "        df_cof.at[i,'MUTATION'] = 1\n",
    "    elif df_ip[\"tau\"].loc[i]>65 and df_ip[\"xi\"].loc[i]<0.25:\n",
    "        rd = random.randint(1, 3)\n",
    "        if rd != 3 :\n",
    "            df_cof.at[i,'MUTATION'] = 1\n",
    "    elif df_ip[\"tau\"].loc[i]>60 and df_ip[\"xi\"].loc[i]<0.25:\n",
    "        rd = random.randint(1, 3)\n",
    "        if rd == 3 :\n",
    "            df_cof.at[i,'MUTATION'] = 1"
   ]
  },
  {
   "cell_type": "code",
   "execution_count": 10,
   "metadata": {},
   "outputs": [
    {
     "data": {
      "image/png": "[encoded data removed]",
      "text/plain": [
       "<Figure size 432x288 with 1 Axes>"
      ]
     },
     "metadata": {
      "needs_background": "light"
     },
     "output_type": "display_data"
    },
    {
     "data": {
      "image/png": "[encoded data removed]",
      "text/plain": [
       "<Figure size 432x288 with 1 Axes>"
      ]
     },
     "metadata": {
      "needs_background": "light"
     },
     "output_type": "display_data"
    }
   ],
   "source": [
    "# —— Convert individual parameters to dataframe\n",
    "df_ip = ip.to_dataframe()\n",
    "\n",
    "# —— Merge with cofactors\n",
    "df_ip = df_ip.join(df_cof)\n",
    "\n",
    "# —— Separate the individual parameters with respect to the cofactor\n",
    "carriers = df_ip[df_ip['MUTATION'] == 0.]\n",
    "non_carriers = df_ip[df_ip['MUTATION'] == 1.]\n",
    "\n",
    "# —— Plot the time shifts in carriers and non-carriers\n",
    "plt.title('Time shift histogram')\n",
    "plt.hist(carriers['tau'], density=True, label='Carriers')\n",
    "plt.hist(non_carriers['tau'], density=True, alpha=0.6, label='Non carriers')\n",
    "plt.legend()\n",
    "plt.show()\n",
    "\n",
    "\n",
    "# —— Plot the acceleration factor in carriers and non-carriers\n",
    "plt.title('Log-Acceleration factor histogram')\n",
    "plt.hist(carriers['xi'], density=True, label='Carriers')\n",
    "plt.hist(non_carriers['xi'], density=True, alpha=0.6, label='Non carriers')\n",
    "plt.legend()\n",
    "plt.show()"
   ]
  },
  {
   "cell_type": "code",
   "execution_count": 11,
   "metadata": {},
   "outputs": [
    {
     "name": "stdout",
     "output_type": "stream",
     "text": [
      "Ttest_indResult(statistic=-2.2232608961456144, pvalue=0.032220725282898224)\n",
      "Ttest_indResult(statistic=3.1589836303335073, pvalue=0.0031005639237972477)\n",
      "MannwhitneyuResult(statistic=110.0, pvalue=0.015731576990963104)\n",
      "MannwhitneyuResult(statistic=78.0, pvalue=0.001162797898390688)\n"
     ]
    }
   ],
   "source": [
    "# —— Student t-test (under the asumption of a gaussian distribution only)\n",
    "print(stats.ttest_ind(carriers['tau'], non_carriers['tau']))\n",
    "print(stats.ttest_ind(carriers['xi'], non_carriers['xi']))\n",
    "\n",
    "# —— Mann-withney t-test\n",
    "print(stats.mannwhitneyu(carriers['tau'], non_carriers['tau']))\n",
    "print(stats.mannwhitneyu(carriers['xi'], non_carriers['xi']))"
   ]
  },
  {
   "cell_type": "code",
   "execution_count": 12,
   "metadata": {},
   "outputs": [],
   "source": [
    "df_cof.to_csv(\"cof_leaspy1.csv\")"
   ]
  },
  {
   "cell_type": "code",
   "execution_count": null,
   "metadata": {},
   "outputs": [],
   "source": []
  }
 ],
 "metadata": {
  "kernelspec": {
   "display_name": "Python 3",
   "language": "python",
   "name": "python3"
  },
  "language_info": {
   "codemirror_mode": {
    "name": "ipython",
    "version": 3
   },
   "file_extension": ".py",
   "mimetype": "text/x-python",
   "name": "python",
   "nbconvert_exporter": "python",
   "pygments_lexer": "ipython3",
   "version": "3.8.5"
  }
 },
 "nbformat": 4,
 "nbformat_minor": 4
}
